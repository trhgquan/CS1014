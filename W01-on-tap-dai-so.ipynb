{
 "cells": [
  {
   "cell_type": "markdown",
   "id": "e0733374",
   "metadata": {},
   "source": [
    "# Buổi 01: ôn định thức và cái quái gì đấy lạ lắm\n",
    "\n",
    "## Phép thế\n",
    "Định nghĩa của **phép thế** của một tập hợp hữu hạn:\n",
    "\n",
    "Giả sử có $X = \\{x_1, x_2, .., x_n\\}$, rút gọn cho tập $X = \\{1, 2, .., n\\}$\n",
    "\n",
    "Kí hiệu $S_n$ là tập các *phép thế* của $X$. Phép thế là 1 ánh xạ song ánh $\\sigma: X \\rightarrow X$.\n",
    "\n",
    "Lấy\n",
    "$\n",
    "\\sigma =\n",
    "\\begin{pmatrix}\n",
    "1 & 2 & .. & n \\\\\n",
    "\\sigma(1) & \\sigma(2) & .. & \\sigma(n)\n",
    "\\end{pmatrix}\n",
    "$, (dòng 2 là hoán vị của dòng 1)\n",
    "\n"
   ]
  },
  {
   "cell_type": "markdown",
   "id": "fef2b6c3",
   "metadata": {},
   "source": [
    "Ví dụ: Lấy $X = \\{1, 2, 3\\}$ thì $S_3$ có $3! = 6$ phần tử gồm\n",
    "\n",
    "$\n",
    "e =\n",
    "\\begin{pmatrix}\n",
    "1 & 2 & 3 \\\\\n",
    "1 & 2 & 3\n",
    "\\end{pmatrix}\n",
    "$\n",
    "\n",
    "$\n",
    "f_1 = \n",
    "\\begin{pmatrix}\n",
    "1 & 2 & 3 \\\\\n",
    "1 & 3 & 2\n",
    "\\end{pmatrix}\n",
    "$\n",
    "\n",
    "$\n",
    "f_2 = \n",
    "\\begin{pmatrix}\n",
    "1 & 2 & 3 \\\\\n",
    "2 & 1 & 3\n",
    "\\end{pmatrix}\n",
    "$, ... (tiếp tục tới $f_5$)"
   ]
  },
  {
   "cell_type": "markdown",
   "id": "391fece8",
   "metadata": {},
   "source": [
    "## Dấu của phép thế \n",
    "Dấu của phép thế: $\\displaystyle \\text{sgn}(\\sigma) = \\prod_{\\{i, j\\}} \\frac{i - j}{\\sigma(i) - \\sigma(j)}$"
   ]
  },
  {
   "cell_type": "markdown",
   "id": "a26b17d0",
   "metadata": {},
   "source": [
    "Ví dụ: $\\displaystyle \\text{sgn}(f_2) = \\frac{1 - 2}{3 - 1}\\frac{2-3}{1-2}\\frac{1-3}{3-2} = 1$"
   ]
  },
  {
   "cell_type": "markdown",
   "id": "5ebbe506",
   "metadata": {},
   "source": [
    "### Ứng dụng: tính định thức ma trận\n",
    "\n",
    "Cho ma trận vuông cấp $n\\ (n \\geq 1)$.\n",
    "\n",
    "$\n",
    "A = \n",
    "\\begin{pmatrix}\n",
    "a_{11} & a_{12} & .. & a_{1n}\\\\\n",
    "a_{21} & .. & .. & a{2n} \\\\\n",
    ".. & .. & .. & .. \\\\\n",
    "a_{n1} & a_{n2} & .. & a_{nn}\n",
    "\\end{pmatrix}\n",
    "$"
   ]
  },
  {
   "cell_type": "markdown",
   "id": "8bda0660",
   "metadata": {},
   "source": [
    "$D = \\text{det}(A)$ là định thức của $A$ được tính như sau:\n",
    "\n",
    "$\\displaystyle D = \\sum_{\\sigma \\in S_n} \\text{sgn}(\\sigma) a_{1\\sigma(1)} a_{2\\sigma(2)} .. a_{n \\sigma(n)}$"
   ]
  },
  {
   "cell_type": "markdown",
   "id": "dd12e163",
   "metadata": {},
   "source": [
    "Ví dụ:\n",
    "\n",
    "$\n",
    "A_{3\\times 3} = \n",
    "\\begin{pmatrix}\n",
    "11 & 12 & 13 \\\\\n",
    "21 & 22 & 23 \\\\\n",
    "31 & 32 & 33\n",
    "\\end{pmatrix}\n",
    "$, tập $X = \\{1, 2, 3\\}$.\n",
    "\n",
    "- $\\sigma(1) = \\{1, 3, 2\\} = -1$\n",
    "- $\\sigma(2) = \\{2, 1, 3\\} = -1$\n",
    "- $\\sigma(3) = \\{1, 2, 3\\} = 1$\n",
    "- $\\sigma(4) = \\{3, 2, 1\\} = -1$\n",
    "- $\\sigma(5) = \\{3, 1, 2\\} = 1$\n",
    "- $\\sigma(6) = \\{2, 3, 1\\} = 1$\n",
    "\n",
    "Khi đó $\\displaystyle D = (-a_{11}a_{23}a_{32}) - (a_{12}a_{21}a_{33}) + (a_{11}a_{22}a_{33}) - (a_{13}a_{22}a_{31}) + (a_{13}a_{21}a_{32}) + (a_{12}a_{23}a_{31})$"
   ]
  },
  {
   "cell_type": "markdown",
   "id": "422b5b02",
   "metadata": {},
   "source": [
    "Nhận xét:\n",
    "- $A^{T}$ có cách tính định thức y hệt $A$.\n",
    "- Đổi thứ tự 2 cột / dòng thì định thức đổi dấu.\n",
    "- Có 2 dòng / cột giống nhau thì định thức = 0."
   ]
  },
  {
   "cell_type": "markdown",
   "id": "d14b97e0",
   "metadata": {},
   "source": [
    "Ứng dụng: tính diện tích, thể tích"
   ]
  },
  {
   "cell_type": "markdown",
   "id": "39efbc29",
   "metadata": {},
   "source": [
    "## Một công thức \"lỡ\" quên\n",
    "\n",
    "Diện tích $S$ của hình thang có đáy lớn $A$, đáy nhỏ $B$, chiều cao $H$: $\\displaystyle S = \\frac{H(A + B)}{2}$\n",
    "\n",
    "Hình bình hành là hình thang có 2 cạnh đáy bằng nhau. Do vậy, $S_{\\text{hình thang}} = B \\times H$.\n",
    "\n",
    "Cho $\\vec{v_1} = \\begin{pmatrix}a\\\\b\\end{pmatrix}, \\vec{v_2} = \\begin{pmatrix}c\\\\d\\end{pmatrix}$. Lấy $A = \\begin{pmatrix}\\vec{v_1}^{T} \\\\ \\vec{v_2}^{T}\\end{pmatrix} = \\begin{pmatrix}a & b\\\\c & d\\end{pmatrix}$, khi đó diện tích hình thang tạo bởi $\\vec{v_1}, \\vec{v_2} = \\det(A)$. Chứng minh nhanh [ở đây](https://math.stackexchange.com/questions/29128/why-determinant-of-a-2-by-2-matrix-is-the-area-of-a-parallelogram).\n",
    "\n",
    "Tương tự với thể tích: $\\vec{a} = \\begin{pmatrix}a_1 & a_2 & a_3\\end{pmatrix}, \\vec{b} = \\begin{pmatrix}b_1 & b_2 & b_3\\end{pmatrix}, \\vec{c} = \\begin{pmatrix}c_1 & c_2 & c_3\\end{pmatrix}, V = \\begin{pmatrix}\\vec{a}^{T} & \\vec{b}^{T} & \\vec{c}^{T}\\end{pmatrix}$, khi đó thể tích hình khối lục diện tạo bởi $\\vec{a}, \\vec{b}, \\vec{c} = \\det(V)$.\n",
    "\n",
    "### Diện tích / thể tích đa giác?\n",
    "Cứ 3 điểm sẽ tạo thành 1 tam giác, chỉ cần chia đa giác thành các tam giác rồi cộng các diện tích lại!\n",
    "\n",
    "Thể tích cũng tương tự, chia thành các tứ diện."
   ]
  },
  {
   "cell_type": "code",
   "execution_count": 1,
   "id": "36e521f0",
   "metadata": {},
   "outputs": [],
   "source": [
    "# Giải nhanh cái bài tập phiền vcc hình miếng đất & 5 dòng.\n",
    "def calc_det(A : tuple, B : tuple) -> float:\n",
    "    return A[0] * B[1] - A[1] * B[0]\n",
    "\n",
    "points = [\n",
    "    (1181128.25, 603263.70),\n",
    "    (1181136.18, 603266.68),\n",
    "    (1181130.97, 603279.69),\n",
    "    (1181125.77, 603281.91),\n",
    "    (1181122.06, 603280.42),\n",
    "]\n",
    "\n",
    "res = calc_det(points[0], points[1]) + calc_det(points[1], points[2]) + calc_det(points[2], points[3]) + calc_det(points[3], points[4]) + calc_det(points[4], points[0])"
   ]
  },
  {
   "cell_type": "code",
   "execution_count": 2,
   "id": "c9654eed",
   "metadata": {},
   "outputs": [
    {
     "name": "stdout",
     "output_type": "stream",
     "text": [
      "139.56793212890625\n"
     ]
    }
   ],
   "source": [
    "print(abs(res / 2))"
   ]
  },
  {
   "cell_type": "code",
   "execution_count": 3,
   "id": "a7ce9b44",
   "metadata": {},
   "outputs": [
    {
     "name": "stdout",
     "output_type": "stream",
     "text": [
      "-1264118.9558105469\n",
      "18509601.104492188\n",
      "5759165.141479492\n",
      "478298.48876953125\n",
      "-23482666.643066406\n"
     ]
    }
   ],
   "source": [
    "# In nhanh bảng det\n",
    "for i in range(0, 4):\n",
    "    print(calc_det(points[i], points[i + 1]))\n",
    "    \n",
    "print(calc_det(points[4], points[0]))"
   ]
  },
  {
   "cell_type": "markdown",
   "id": "e4fa5690",
   "metadata": {},
   "source": [
    "Tips: với cái bài này có thể xét $(1181128.25, 603263.70)$ như $(28.25, 63.70)$."
   ]
  },
  {
   "cell_type": "markdown",
   "id": "387f6069",
   "metadata": {},
   "source": [
    "## Nhân ma trận, Markov và một đống thứ vừa lạ vừa quen\n",
    "\n",
    "(lười viết quá, xem trong tài liệu)"
   ]
  }
 ],
 "metadata": {
  "kernelspec": {
   "display_name": "Python 3 (ipykernel)",
   "language": "python",
   "name": "python3"
  },
  "language_info": {
   "codemirror_mode": {
    "name": "ipython",
    "version": 3
   },
   "file_extension": ".py",
   "mimetype": "text/x-python",
   "name": "python",
   "nbconvert_exporter": "python",
   "pygments_lexer": "ipython3",
   "version": "3.9.7"
  }
 },
 "nbformat": 4,
 "nbformat_minor": 5
}
