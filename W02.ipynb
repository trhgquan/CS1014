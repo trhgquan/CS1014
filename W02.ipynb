{
 "cells": [
  {
   "cell_type": "code",
   "execution_count": 1,
   "id": "96919be6",
   "metadata": {},
   "outputs": [],
   "source": [
    "import numpy as np"
   ]
  },
  {
   "cell_type": "code",
   "execution_count": 2,
   "id": "77441490",
   "metadata": {},
   "outputs": [],
   "source": [
    "fn, fn_1, fn_2 = 0, 1, 1"
   ]
  },
  {
   "cell_type": "code",
   "execution_count": 3,
   "id": "5491fbb8",
   "metadata": {},
   "outputs": [
    {
     "name": "stdout",
     "output_type": "stream",
     "text": [
      "[[0 1]\n",
      " [1 1]]\n"
     ]
    }
   ],
   "source": [
    "mt = np.matrix([[fn, fn_1], [fn_1, fn_2]])\n",
    "print(mt)"
   ]
  },
  {
   "cell_type": "code",
   "execution_count": 6,
   "id": "0f36eecd",
   "metadata": {},
   "outputs": [],
   "source": [
    "for i in range (1, 10):\n",
    "    mft = mt\n",
    "    mt = mt.dot(mft)"
   ]
  },
  {
   "cell_type": "code",
   "execution_count": 7,
   "id": "6e417b4b",
   "metadata": {},
   "outputs": [
    {
     "name": "stdout",
     "output_type": "stream",
     "text": [
      "[[-1595087134   722393659]\n",
      " [  722393659  -872693475]]\n"
     ]
    }
   ],
   "source": [
    "print(mt)"
   ]
  }
 ],
 "metadata": {
  "kernelspec": {
   "display_name": "Python 3 (ipykernel)",
   "language": "python",
   "name": "python3"
  },
  "language_info": {
   "codemirror_mode": {
    "name": "ipython",
    "version": 3
   },
   "file_extension": ".py",
   "mimetype": "text/x-python",
   "name": "python",
   "nbconvert_exporter": "python",
   "pygments_lexer": "ipython3",
   "version": "3.9.7"
  }
 },
 "nbformat": 4,
 "nbformat_minor": 5
}
