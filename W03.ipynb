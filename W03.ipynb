{
 "cells": [
  {
   "cell_type": "code",
   "execution_count": 1,
   "id": "8264e113",
   "metadata": {},
   "outputs": [],
   "source": [
    "import numpy as np\n",
    "import sympy"
   ]
  },
  {
   "cell_type": "markdown",
   "id": "4baf364e",
   "metadata": {},
   "source": [
    "- Chuẩn bậc 1: $||u||_1 = \\sum{|u_i|}$\n",
    "- Chuẩn bậc 2: $||u||_2 = \\sqrt{<u, u>}$\n",
    "- ..\n",
    "- Chuẩn bậc $k$: $||v||_k = \\sqrt[k]{\\sum_{i = 1}^n |v_i|^n}$"
   ]
  },
  {
   "cell_type": "markdown",
   "id": "f03f788f",
   "metadata": {},
   "source": [
    "- Góc giữa 2 vector: $\\theta = \\text{arccos}\\left(\\frac{<u, v>}{||u||\\cdot||v||}\\right)$\n",
    "- Phép chiếu trực giao: $p = \\left(\\frac{<u, v>}{<v, v>}\\right)v$\n",
    "- Hai viector trực giao khi: $||u \\pm v||^2 = ||u||^2 + ||v||^2$"
   ]
  },
  {
   "cell_type": "markdown",
   "id": "c8eb9c4f",
   "metadata": {},
   "source": [
    "Trị riêng (Eigenvalue)\n",
    "$\\lambda \\in \\mathbb{R}, x \\neq 0: Ax = \\lambda x$ thì $\\lambda$ là trị riêng của $A$."
   ]
  },
  {
   "cell_type": "code",
   "execution_count": 2,
   "id": "2616354f",
   "metadata": {},
   "outputs": [],
   "source": [
    "x, y, Lambda = sympy.symbols('x y Lambda')"
   ]
  },
  {
   "cell_type": "code",
   "execution_count": 3,
   "id": "a89746d8",
   "metadata": {},
   "outputs": [],
   "source": [
    "I = sympy.eye(2)"
   ]
  },
  {
   "cell_type": "code",
   "execution_count": 4,
   "id": "a1eee003",
   "metadata": {},
   "outputs": [],
   "source": [
    "A = sympy.Matrix([[2, 3], [3, -6]])"
   ]
  },
  {
   "cell_type": "code",
   "execution_count": 5,
   "id": "e7aa0afb",
   "metadata": {},
   "outputs": [],
   "source": [
    "phuongtrinh = sympy.Eq(sympy.det(Lambda * I - A), 0)"
   ]
  },
  {
   "cell_type": "code",
   "execution_count": 6,
   "id": "10aa3f73",
   "metadata": {},
   "outputs": [],
   "source": [
    "nghiem = sympy.solve(phuongtrinh)"
   ]
  },
  {
   "cell_type": "code",
   "execution_count": 7,
   "id": "4c0b24c5",
   "metadata": {},
   "outputs": [
    {
     "name": "stdout",
     "output_type": "stream",
     "text": [
      "[-7, 3]\n"
     ]
    }
   ],
   "source": [
    "print(nghiem)"
   ]
  }
 ],
 "metadata": {
  "kernelspec": {
   "display_name": "Python 3 (ipykernel)",
   "language": "python",
   "name": "python3"
  },
  "language_info": {
   "codemirror_mode": {
    "name": "ipython",
    "version": 3
   },
   "file_extension": ".py",
   "mimetype": "text/x-python",
   "name": "python",
   "nbconvert_exporter": "python",
   "pygments_lexer": "ipython3",
   "version": "3.9.7"
  }
 },
 "nbformat": 4,
 "nbformat_minor": 5
}
