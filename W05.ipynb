{
 "cells": [
  {
   "cell_type": "markdown",
   "id": "326c9c0e",
   "metadata": {},
   "source": [
    "# Tuần 05: Simplex method\n",
    "\n",
    "Giải quyết cho các ràng buộc có tổng hệ số bằng 1\n",
    "\n",
    "$$\n",
    "a_1x_1 + a_2x_2 + .. + a_nx_n = b \\big| \\sum_{i = 1}^{n} a_i = 1\n",
    "$$\n",
    "\n",
    "Áp dụng cho bài toán chính tắc (aka ràng buộc đã chuẩn hóa về đẳng thức)."
   ]
  },
  {
   "cell_type": "markdown",
   "id": "6f305ddd",
   "metadata": {},
   "source": [
    "- Tìm một phương án cực biên\n",
    "- Kiểm tra điều kiện tối ưu, nếu đúng thì dừng, không thì chuyển sang phương án khác giúp cải tiến hàm mục tiêu $F$"
   ]
  },
  {
   "cell_type": "markdown",
   "id": "dedb74eb",
   "metadata": {},
   "source": [
    "New terms\n",
    "- Biến cơ sở: biến có hệ số bằng 1 ở 1 phương trình và bằng 0 với các phương trình còn lại. Các biến còn lại là **biến tự do**\n",
    "- Nghiệm cơ sở: là nghiệm sinh ra khi cho các biến tự do bằng 0.\n",
    "- Nghiệm cơ sở thỏa ràng buộc về dấu là một **phương án cực biên**"
   ]
  },
  {
   "cell_type": "markdown",
   "id": "f1665b99",
   "metadata": {},
   "source": [
    "Find basic feasible solution:\n",
    "- Chọn cơ sở sao cho vector hệ số tương đương của chúng độc lập tuyến tính; cho các biến kia bằng 0 để giải ra bộ nghiệm.\n",
    "- Thành phần cơ sở không âm $\\rightarrow$ phương án cực biên"
   ]
  },
  {
   "cell_type": "markdown",
   "id": "8a033d3b",
   "metadata": {},
   "source": [
    "## Standard LP\n",
    "$$\n",
    "f = \\sum_{j = 1}^{n}c_jx_j \\rightarrow \\text{max(min)}\n",
    "$$\n",
    "\n",
    "$$\n",
    "X_{B_{i}} + \\sum_{j \\notin B}a_{ij}X_{B_j} = b_i, i = \\overline{1, m}, x_j \\leq 0, j = \\overline{1, n}\n",
    "$$\n",
    "\n",
    "với $b_i \\leq 0$ bài toán có phương án cơ bản (PACB) ban đầu là $x_{B_i}^0 = b_i, i = \\overline{1, m}, x_j^0 = 0, j \\notin B$"
   ]
  },
  {
   "cell_type": "markdown",
   "id": "b20d72ac",
   "metadata": {},
   "source": [
    "### Thuật toán\n",
    "- B1: Lập bảng đơn hình xuất phát\n",
    "    - $\\Delta_0 = \\sum_{i = 1}^m C_{B_i}b_i$\n",
    "    - $\\Delta_j = (\\sum_{i = 1}^m C_{B_i}a_{ij}) - c_j$ (tính đến delta n)\n",
    "- B2: Đối với bài toán tìm min, biện luận như sau:\n",
    "    - $\\forall j, \\Delta_j \\leq 0$ thì bài toán có PATƯ.\n",
    "    - Còn lại: chọn cột xoay $v$ và phần tử xoay:\n",
    "    $$\n",
    "    \\lambda_v = \\text{min}\\left\\{\\frac{b_i}{a_{iv}}| \\forall a_{iv} > 0\\right\\}\n",
    "    $$\n",
    "    $$\n",
    "    \\text{max}\\{\\Delta_v|\\forall v > 0\\}\n",
    "    $$\n",
    "    - Nếu có cột $v$ mà $a_{iv} \\leq 0, \\forall i = \\overline{1, m}$ thì bài toán không có phương án tối ưu."
   ]
  },
  {
   "cell_type": "markdown",
   "id": "0f612e0c",
   "metadata": {},
   "source": [
    "### Ví dụ\n",
    "Cho hàm $f = 2x_1 + 4x_2 + 6x_3 + 8x_4 + x_5 + 6x_6 \\rightarrow \\texttt{max}$, các ràng buộc\n",
    "$$\n",
    "\\begin{cases}\n",
    "x_1 + 2x_3 + x_4 = 6\\\\\n",
    "2x_1 + x_2 + 3x_3 + x_6 = 10\\\\\n",
    "4x_1 + 3x_3 + x_5 + x_6 = 36\n",
    "\\end{cases}\n",
    "(x_j \\geq 0, j = \\overline{1, 6})\n",
    "$$"
   ]
  },
  {
   "cell_type": "markdown",
   "id": "36817799",
   "metadata": {},
   "source": [
    "Ta nhận xét các biến $x_4, x_2, x_5$ mỗi dòng xuất hiện 1 lần, vậy đây là các biến độc lập. Lập bảng như sau:\n",
    "\n",
    "|CS|HS|PA|2|4|6|8|1|6|\n",
    "|--|--|--|-|-|-|-|-|-|\n",
    "|$x_4$|8|6|1|0|2|1|0|0|\n",
    "|$x_2$|4|10|2|1|3|0|0|1|\n",
    "|$x_5$|1|36|4|0|3|0|1|1|\n",
    "|max||124|18|0|25|0|0|-1|\n",
    "\n",
    "Giải thích: \n",
    "- 2 4 6 8 1 6 là hệ số $x_1, x_2, .., x_6$ trong $f$.\n",
    "- $x_4, x_2, x_5$ thì khỏi nói, đây là các biến độc lập. \n",
    "- Giá trị số trong các cột khác HS và PA là hệ số từng phương trình ràng buộc. Chú ý thứ tự các phương trình = thứ tự xuất hiện các biến độc lập.\n",
    "- Các giá trị từng cột dòng `max` theo công thức ở cell bên trên. Chú ý công thức $\\Delta_j = (\\sum_{i = 1}^{m} C_{B_i}a_{ij}) - C_j$ là *tính tổng nhân trước rồi trừ cho chỉ số cột*!"
   ]
  },
  {
   "cell_type": "markdown",
   "id": "2b3c13b7",
   "metadata": {},
   "source": [
    "Vì ta đang tìm max, nên dòng max không thể có giá trị âm. Tại đây ta so sánh 2 giá trị $x_2, x_5$ (bỏ qua giá trị đã bằng 0), vì $\\frac{10}{1} < \\frac{36}{1}$ *(PA chia cột âm, min thì thay bằng dấu >)*, nên ta thay thế dòng $x_2$ bằng $x_6$. Chú ý là giá trị hệ số thay đổi **nhưng PA và các giá trị khác thì không**.\n",
    "\n",
    "Do vậy, phải biến đổi các dòng khác 0 theo dòng mới. \n",
    "\n",
    "|CS|HS|PA|2|4|6|8|1|6|\n",
    "|--|--|--|-|-|-|-|-|-|\n",
    "|$x_4$|8|6|1|0|2|1|0|0|\n",
    "|$x_6$|6|10|2|1|3|0|0|1|\n",
    "|$x_5$|1|26|2|-1|0|0|1|0|\n",
    "|max||134|20|1|28|0|0|0|\n",
    "\n",
    "$(d_3 \\leftarrow d_3 - d_2)$"
   ]
  },
  {
   "cell_type": "markdown",
   "id": "4595f567",
   "metadata": {},
   "source": [
    "Khi dòng max không còn giá trị âm *(đối với max - dương đối với min)* thì kết luận: $f_{\\texttt{max}} = 134 \\rightarrow x_1 = x_2 = x_3 = 0, x_4 = 6, x_5 = 26, x_6 = 10$"
   ]
  }
 ],
 "metadata": {
  "kernelspec": {
   "display_name": "Python 3 (ipykernel)",
   "language": "python",
   "name": "python3"
  },
  "language_info": {
   "codemirror_mode": {
    "name": "ipython",
    "version": 3
   },
   "file_extension": ".py",
   "mimetype": "text/x-python",
   "name": "python",
   "nbconvert_exporter": "python",
   "pygments_lexer": "ipython3",
   "version": "3.9.7"
  }
 },
 "nbformat": 4,
 "nbformat_minor": 5
}
