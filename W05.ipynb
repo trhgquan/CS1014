{
 "cells": [
  {
   "cell_type": "markdown",
   "id": "326c9c0e",
   "metadata": {},
   "source": [
    "# Tuần 05: Simplex method\n",
    "\n",
    "Giải quyết cho các ràng buộc có tổng hệ số bằng 1\n",
    "\n",
    "$$\n",
    "a_1x_1 + a_2x_2 + .. + a_nx_n = b \\big| \\sum_{i = 1}^{n} a_i = 1\n",
    "$$\n",
    "\n",
    "Áp dụng cho bài toán chính tắc (aka ràng buộc đã chuẩn hóa về đẳng thức)."
   ]
  },
  {
   "cell_type": "markdown",
   "id": "6f305ddd",
   "metadata": {},
   "source": [
    "- Tìm một phương án cực biên\n",
    "- Kiểm tra điều kiện tối ưu, nếu đúng thì dừng, không thì chuyển sang phương án khác giúp cải tiến hàm mục tiêu $F$"
   ]
  },
  {
   "cell_type": "markdown",
   "id": "dedb74eb",
   "metadata": {},
   "source": [
    "New terms\n",
    "- Biến cơ sở: biến có hệ số bằng 1 ở 1 phương trình và bằng 0 với các phương trình còn lại. Các biến còn lại là **biến tự do**\n",
    "- Nghiệm cơ sở: là nghiệm sinh ra khi cho các biến tự do bằng 0.\n",
    "- Nghiệm cơ sở thỏa ràng buộc về dấu là một **phương án cực biên**"
   ]
  },
  {
   "cell_type": "markdown",
   "id": "f1665b99",
   "metadata": {},
   "source": [
    "Find basic feasible solution:\n",
    "- Chọn cơ sở sao cho vector hệ số tương đương của chúng độc lập tuyến tính; cho các biến kia bằng 0 để giải ra bộ nghiệm.\n",
    "- Thành phần cơ sở không âm $\\rightarrow$ phương án cực biên"
   ]
  },
  {
   "cell_type": "markdown",
   "id": "8a033d3b",
   "metadata": {},
   "source": [
    "## Standard LP\n",
    "$$\n",
    "f = \\sum_{j = 1}^{n}c_jx_j \\rightarrow \\text{max(min)}\n",
    "$$\n",
    "\n",
    "$$\n",
    "X_{B_{i}} + \\sum_{j \\notin B}a_{ij}X_{B_j} = b_i, i = \\overline{1, m}, x_j \\leq 0, j = \\overline{1, n}\n",
    "$$\n",
    "\n",
    "với $b_i \\leq 0$ bài toán có phương án cơ bản (PACB) ban đầu là $x_{B_i}^0 = b_i, i = \\overline{1, m}, x_j^0 = 0, j \\notin B$"
   ]
  },
  {
   "cell_type": "markdown",
   "id": "b20d72ac",
   "metadata": {},
   "source": [
    "- B1: Lập bảng đơn hình xuất phát\n",
    "    - $\\Delta_0 = \\sum_{i = 1}^m C_{B_i}b_i$\n",
    "    - $\\Delta_j = \\sum_{i = 1}^m C_{B_i}a_{ij} - c_j$ (tính đến delta n)\n",
    "- B2: Đối với bài toán tìm min, biện luận như sau:\n",
    "    - $\\forall j, \\Delta_j \\leq 0$ thì bài toán có PATƯ.\n",
    "    - Còn lại: chọn cột xoay $v$ và phần tử xoay:\n",
    "    $$\n",
    "    \\lambda_v = \\text{min}\\left\\{\\frac{b_i}{a_{iv}}| \\forall a_{iv} > 0\\right\\}\n",
    "    $$\n",
    "    $$\n",
    "    \\text{max}\\{\\Delta_v|\\forall v > 0\\}\n",
    "    $$\n",
    "    - Nếu có cột $v$ mà $a_{iv} \\leq 0, \\forall i = \\overline{1, m}$ thì bài toán không có phương án tối ưu."
   ]
  }
 ],
 "metadata": {
  "kernelspec": {
   "display_name": "Python 3 (ipykernel)",
   "language": "python",
   "name": "python3"
  },
  "language_info": {
   "codemirror_mode": {
    "name": "ipython",
    "version": 3
   },
   "file_extension": ".py",
   "mimetype": "text/x-python",
   "name": "python",
   "nbconvert_exporter": "python",
   "pygments_lexer": "ipython3",
   "version": "3.9.7"
  }
 },
 "nbformat": 4,
 "nbformat_minor": 5
}
