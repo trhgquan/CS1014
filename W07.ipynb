{
 "cells": [
  {
   "cell_type": "code",
   "execution_count": 1,
   "metadata": {},
   "outputs": [],
   "source": [
    "from pulp import *"
   ]
  },
  {
   "cell_type": "code",
   "execution_count": 2,
   "metadata": {},
   "outputs": [],
   "source": [
    "b = LpVariable('Brownies', lowBound = 0)\n",
    "i = LpVariable('Ice cream', 0)\n",
    "s = LpVariable('Soda', 0)\n",
    "c = LpVariable('Cheesecake', 0)"
   ]
  },
  {
   "cell_type": "code",
   "execution_count": 10,
   "metadata": {},
   "outputs": [
    {
     "name": "stderr",
     "output_type": "stream",
     "text": [
      "D:\\Software\\Python\\lib\\site-packages\\pulp\\pulp.py:1352: UserWarning: Spaces are not permitted in the name. Converted to '_'\n",
      "  warnings.warn(\"Spaces are not permitted in the name. Converted to '_'\")\n"
     ]
    },
    {
     "data": {
      "text/plain": [
       "1"
      ]
     },
     "execution_count": 10,
     "metadata": {},
     "output_type": "execute_result"
    }
   ],
   "source": [
    "model = LpProblem('Crazy diet', LpMinimize)\n",
    "\n",
    "model += 0.5 * b + 0.2 * i + 0.3 * s + 0.8 * c, 'Total cost'\n",
    "model += 400 * b + 200 * i + 150 * s + 500 * c >= 500, 'Calories'\n",
    "model += 3 * b + 2 * i >= 6, 'Chocolate'\n",
    "model += 2 * b + 2 * i + 4 * s + 4 * c >= 10, 'Sugar'\n",
    "model += 2 * b + 4 * i + 1 * s + 5 * c >= 8, 'Fat'\n",
    "model.solve()"
   ]
  },
  {
   "cell_type": "code",
   "execution_count": 11,
   "metadata": {},
   "outputs": [
    {
     "data": {
      "text/plain": [
       "0.5*Brownies + 0.8*Cheesecake + 0.2*Ice_cream + 0.3*Soda + 0.0"
      ]
     },
     "execution_count": 11,
     "metadata": {},
     "output_type": "execute_result"
    }
   ],
   "source": [
    "model.objective"
   ]
  },
  {
   "cell_type": "code",
   "execution_count": 13,
   "metadata": {},
   "outputs": [
    {
     "data": {
      "text/plain": [
       "0.9000000000000001"
      ]
     },
     "execution_count": 13,
     "metadata": {},
     "output_type": "execute_result"
    }
   ],
   "source": [
    "model.objective.value()"
   ]
  },
  {
   "cell_type": "code",
   "execution_count": 15,
   "metadata": {},
   "outputs": [
    {
     "name": "stdout",
     "output_type": "stream",
     "text": [
      "Brownies 0.0\n",
      "Cheesecake 0.0\n",
      "Ice_cream 3.0\n",
      "Soda 1.0\n"
     ]
    }
   ],
   "source": [
    "for i in model.variables():\n",
    "    print(i, i.value())"
   ]
  }
 ],
 "metadata": {
  "interpreter": {
   "hash": "0a67b383376bbc3f268150e8a766376259116456469e7f7cea52e2e925b8a72d"
  },
  "kernelspec": {
   "display_name": "Python 3.9.7 64-bit",
   "language": "python",
   "name": "python3"
  },
  "language_info": {
   "codemirror_mode": {
    "name": "ipython",
    "version": 3
   },
   "file_extension": ".py",
   "mimetype": "text/x-python",
   "name": "python",
   "nbconvert_exporter": "python",
   "pygments_lexer": "ipython3",
   "version": "3.9.7"
  },
  "orig_nbformat": 4
 },
 "nbformat": 4,
 "nbformat_minor": 2
}
