{
 "cells": [
  {
   "cell_type": "code",
   "execution_count": 1,
   "metadata": {},
   "outputs": [],
   "source": [
    "import sympy as sym"
   ]
  },
  {
   "cell_type": "code",
   "execution_count": 2,
   "metadata": {},
   "outputs": [],
   "source": [
    "beta1 = sym.Symbol('beta1')\n",
    "beta2 = sym.Symbol('beta2')\n",
    "beta3 = sym.Symbol('beta3')\n",
    "beta4 = sym.Symbol('beta4')"
   ]
  },
  {
   "cell_type": "markdown",
   "metadata": {},
   "source": [
    "# First iteration"
   ]
  },
  {
   "cell_type": "code",
   "execution_count": 3,
   "metadata": {},
   "outputs": [],
   "source": [
    "d1 = sym.Matrix([beta1, 1, 0, 0, 0, 1, 0, 0, 0])\n",
    "d2 = sym.Matrix([2 * beta1 + beta2, 4, 1, 0, 0, 0, 1, 0, 0])\n",
    "d3 = sym.Matrix([4 * beta1 + 2 * beta2 + beta3, 8, 4, 1, 0, 0, 0, 1, 0])\n",
    "d4 = sym.Matrix([8 * beta1 + 4 * beta2 + 2 * beta3 + beta4, 16, 8, 4, 1, 0, 0, 0, 1])"
   ]
  },
  {
   "cell_type": "code",
   "execution_count": 4,
   "metadata": {},
   "outputs": [],
   "source": [
    "d2 = d2 - 4 * d1"
   ]
  },
  {
   "cell_type": "code",
   "execution_count": 5,
   "metadata": {},
   "outputs": [],
   "source": [
    "d3 = d3 - 8 * d1"
   ]
  },
  {
   "cell_type": "code",
   "execution_count": 6,
   "metadata": {},
   "outputs": [],
   "source": [
    "d4 = d4 - 16 * d1"
   ]
  },
  {
   "cell_type": "code",
   "execution_count": 7,
   "metadata": {},
   "outputs": [
    {
     "name": "stdout",
     "output_type": "stream",
     "text": [
      "Matrix([[beta1], [1], [0], [0], [0], [1], [0], [0], [0]])\n",
      "Matrix([[-2*beta1 + beta2], [0], [1], [0], [0], [-4], [1], [0], [0]])\n",
      "Matrix([[-4*beta1 + 2*beta2 + beta3], [0], [4], [1], [0], [-8], [0], [1], [0]])\n",
      "Matrix([[-8*beta1 + 4*beta2 + 2*beta3 + beta4], [0], [8], [4], [1], [-16], [0], [0], [1]])\n"
     ]
    }
   ],
   "source": [
    "print(d1, d2, d3, d4, sep = '\\n')"
   ]
  },
  {
   "cell_type": "code",
   "execution_count": 8,
   "metadata": {},
   "outputs": [],
   "source": [
    "fmax = 8 * d1[0]"
   ]
  },
  {
   "cell_type": "code",
   "execution_count": 9,
   "metadata": {},
   "outputs": [
    {
     "name": "stdout",
     "output_type": "stream",
     "text": [
      "8*beta1\n"
     ]
    }
   ],
   "source": [
    "print(fmax)"
   ]
  },
  {
   "cell_type": "markdown",
   "metadata": {},
   "source": [
    "# Second iteration"
   ]
  },
  {
   "cell_type": "code",
   "execution_count": 10,
   "metadata": {},
   "outputs": [],
   "source": [
    "d1 = d1\n",
    "d2 = d2\n",
    "d3 = d3 - 4 * d2\n",
    "d4 = d4 - 8 * d2"
   ]
  },
  {
   "cell_type": "code",
   "execution_count": 11,
   "metadata": {},
   "outputs": [
    {
     "name": "stdout",
     "output_type": "stream",
     "text": [
      "Matrix([[beta1], [1], [0], [0], [0], [1], [0], [0], [0]])\n",
      "Matrix([[-2*beta1 + beta2], [0], [1], [0], [0], [-4], [1], [0], [0]])\n",
      "Matrix([[4*beta1 - 2*beta2 + beta3], [0], [0], [1], [0], [8], [-4], [1], [0]])\n",
      "Matrix([[8*beta1 - 4*beta2 + 2*beta3 + beta4], [0], [0], [4], [1], [16], [-8], [0], [1]])\n"
     ]
    }
   ],
   "source": [
    "print(d1, d2, d3, d4, sep = '\\n')"
   ]
  },
  {
   "cell_type": "code",
   "execution_count": 12,
   "metadata": {},
   "outputs": [],
   "source": [
    "fmax = 8 * d1 + 4 * d2"
   ]
  },
  {
   "cell_type": "code",
   "execution_count": 13,
   "metadata": {},
   "outputs": [
    {
     "name": "stdout",
     "output_type": "stream",
     "text": [
      "Matrix([[4*beta2], [8], [4], [0], [0], [-8], [4], [0], [0]])\n"
     ]
    }
   ],
   "source": [
    "print(fmax)"
   ]
  },
  {
   "cell_type": "markdown",
   "metadata": {},
   "source": [
    "# Third iteration"
   ]
  },
  {
   "cell_type": "code",
   "execution_count": 14,
   "metadata": {},
   "outputs": [],
   "source": [
    "d1 = d1\n",
    "d2 = d2 + 4 * d1\n",
    "d3 = d3 - 8 * d1\n",
    "d4 = d4 - 16 * d1"
   ]
  },
  {
   "cell_type": "code",
   "execution_count": 15,
   "metadata": {},
   "outputs": [
    {
     "name": "stdout",
     "output_type": "stream",
     "text": [
      "Matrix([[beta1], [1], [0], [0], [0], [1], [0], [0], [0]])\n",
      "Matrix([[2*beta1 + beta2], [4], [1], [0], [0], [0], [1], [0], [0]])\n",
      "Matrix([[-4*beta1 - 2*beta2 + beta3], [-8], [0], [1], [0], [0], [-4], [1], [0]])\n",
      "Matrix([[-8*beta1 - 4*beta2 + 2*beta3 + beta4], [-16], [0], [4], [1], [0], [-8], [0], [1]])\n"
     ]
    }
   ],
   "source": [
    "print(d1, d2, d3, d4, sep = '\\n')"
   ]
  },
  {
   "cell_type": "code",
   "execution_count": 16,
   "metadata": {},
   "outputs": [],
   "source": [
    "fmax = 4 * d2"
   ]
  },
  {
   "cell_type": "code",
   "execution_count": 17,
   "metadata": {},
   "outputs": [
    {
     "name": "stdout",
     "output_type": "stream",
     "text": [
      "Matrix([[8*beta1 + 4*beta2], [16], [4], [0], [0], [0], [4], [0], [0]])\n"
     ]
    }
   ],
   "source": [
    "print(fmax)"
   ]
  },
  {
   "cell_type": "markdown",
   "metadata": {},
   "source": [
    "# Fourth iteration"
   ]
  },
  {
   "cell_type": "code",
   "execution_count": 18,
   "metadata": {},
   "outputs": [],
   "source": [
    "d1 = d1\n",
    "d2 = d2\n",
    "d3 = d3\n",
    "d4 = d4 - 4 * d3"
   ]
  },
  {
   "cell_type": "code",
   "execution_count": 19,
   "metadata": {},
   "outputs": [
    {
     "name": "stdout",
     "output_type": "stream",
     "text": [
      "Matrix([[beta1], [1], [0], [0], [0], [1], [0], [0], [0]])\n",
      "Matrix([[2*beta1 + beta2], [4], [1], [0], [0], [0], [1], [0], [0]])\n",
      "Matrix([[-4*beta1 - 2*beta2 + beta3], [-8], [0], [1], [0], [0], [-4], [1], [0]])\n",
      "Matrix([[8*beta1 + 4*beta2 - 2*beta3 + beta4], [16], [0], [0], [1], [0], [8], [-4], [1]])\n"
     ]
    }
   ],
   "source": [
    "print(d1, d2, d3, d4, sep = '\\n')"
   ]
  },
  {
   "cell_type": "code",
   "execution_count": 20,
   "metadata": {},
   "outputs": [],
   "source": [
    "fmax = 4 * d2 + 2 * d3"
   ]
  },
  {
   "cell_type": "code",
   "execution_count": 21,
   "metadata": {},
   "outputs": [
    {
     "name": "stdout",
     "output_type": "stream",
     "text": [
      "Matrix([[2*beta3], [0], [4], [2], [0], [0], [-4], [2], [0]])\n"
     ]
    }
   ],
   "source": [
    "print(fmax)"
   ]
  },
  {
   "cell_type": "markdown",
   "metadata": {},
   "source": [
    "# Fifth iteration"
   ]
  },
  {
   "cell_type": "code",
   "execution_count": 22,
   "metadata": {},
   "outputs": [],
   "source": [
    "d1 = d1\n",
    "d2 = d2 - 4 * d1\n",
    "d3 = d3 + 8 * d1\n",
    "d4 = d4 - 16 * d1"
   ]
  },
  {
   "cell_type": "code",
   "execution_count": 23,
   "metadata": {},
   "outputs": [
    {
     "name": "stdout",
     "output_type": "stream",
     "text": [
      "Matrix([[beta1], [1], [0], [0], [0], [1], [0], [0], [0]])\n",
      "Matrix([[-2*beta1 + beta2], [0], [1], [0], [0], [-4], [1], [0], [0]])\n",
      "Matrix([[4*beta1 - 2*beta2 + beta3], [0], [0], [1], [0], [8], [-4], [1], [0]])\n",
      "Matrix([[-8*beta1 + 4*beta2 - 2*beta3 + beta4], [0], [0], [0], [1], [-16], [8], [-4], [1]])\n"
     ]
    }
   ],
   "source": [
    "print(d1, d2, d3, d4, sep = '\\n')"
   ]
  },
  {
   "cell_type": "code",
   "execution_count": 24,
   "metadata": {},
   "outputs": [],
   "source": [
    "fmax = 8 * d1 + 4 * d2 + 2 * d3"
   ]
  },
  {
   "cell_type": "code",
   "execution_count": 25,
   "metadata": {},
   "outputs": [
    {
     "name": "stdout",
     "output_type": "stream",
     "text": [
      "Matrix([[8*beta1 + 2*beta3], [8], [4], [2], [0], [8], [-4], [2], [0]])\n"
     ]
    }
   ],
   "source": [
    "print(fmax)"
   ]
  },
  {
   "cell_type": "markdown",
   "metadata": {},
   "source": [
    "# Sixth iteration"
   ]
  },
  {
   "cell_type": "code",
   "execution_count": 26,
   "metadata": {},
   "outputs": [],
   "source": [
    "d1 = d1\n",
    "d2 = d2\n",
    "d3 = d3 + 4 * d2\n",
    "d4 = d4 - 8 * d2"
   ]
  },
  {
   "cell_type": "code",
   "execution_count": 27,
   "metadata": {},
   "outputs": [
    {
     "name": "stdout",
     "output_type": "stream",
     "text": [
      "Matrix([[beta1], [1], [0], [0], [0], [1], [0], [0], [0]])\n",
      "Matrix([[-2*beta1 + beta2], [0], [1], [0], [0], [-4], [1], [0], [0]])\n",
      "Matrix([[-4*beta1 + 2*beta2 + beta3], [0], [4], [1], [0], [-8], [0], [1], [0]])\n",
      "Matrix([[8*beta1 - 4*beta2 - 2*beta3 + beta4], [0], [-8], [0], [1], [16], [0], [-4], [1]])\n"
     ]
    }
   ],
   "source": [
    "print(d1, d2, d3, d4, sep = '\\n')"
   ]
  },
  {
   "cell_type": "code",
   "execution_count": 28,
   "metadata": {},
   "outputs": [],
   "source": [
    "fmax = 8 * d1 + 2 * d3"
   ]
  },
  {
   "cell_type": "code",
   "execution_count": 29,
   "metadata": {},
   "outputs": [
    {
     "name": "stdout",
     "output_type": "stream",
     "text": [
      "Matrix([[4*beta2 + 2*beta3], [8], [8], [2], [0], [-8], [0], [2], [0]])\n"
     ]
    }
   ],
   "source": [
    "print(fmax)"
   ]
  },
  {
   "cell_type": "markdown",
   "metadata": {},
   "source": [
    "# Seventh iteration"
   ]
  },
  {
   "cell_type": "code",
   "execution_count": 30,
   "metadata": {},
   "outputs": [],
   "source": [
    "d1 = d1\n",
    "d2 = d2 + 4 * d1\n",
    "d3 = d3 + 8 * d1\n",
    "d4 = d4 - 16 * d1"
   ]
  },
  {
   "cell_type": "code",
   "execution_count": 31,
   "metadata": {},
   "outputs": [
    {
     "name": "stdout",
     "output_type": "stream",
     "text": [
      "Matrix([[beta1], [1], [0], [0], [0], [1], [0], [0], [0]])\n",
      "Matrix([[2*beta1 + beta2], [4], [1], [0], [0], [0], [1], [0], [0]])\n",
      "Matrix([[4*beta1 + 2*beta2 + beta3], [8], [4], [1], [0], [0], [0], [1], [0]])\n",
      "Matrix([[-8*beta1 - 4*beta2 - 2*beta3 + beta4], [-16], [-8], [0], [1], [0], [0], [-4], [1]])\n"
     ]
    }
   ],
   "source": [
    "print(d1, d2, d3, d4, sep = '\\n')"
   ]
  },
  {
   "cell_type": "code",
   "execution_count": 32,
   "metadata": {},
   "outputs": [],
   "source": [
    "fmax = 2 * d3"
   ]
  },
  {
   "cell_type": "code",
   "execution_count": 33,
   "metadata": {},
   "outputs": [
    {
     "name": "stdout",
     "output_type": "stream",
     "text": [
      "Matrix([[8*beta1 + 4*beta2 + 2*beta3], [16], [8], [2], [0], [0], [0], [2], [0]])\n"
     ]
    }
   ],
   "source": [
    "print(fmax)"
   ]
  },
  {
   "cell_type": "markdown",
   "metadata": {},
   "source": [
    "# Eighth iteration"
   ]
  },
  {
   "cell_type": "code",
   "execution_count": 34,
   "metadata": {},
   "outputs": [],
   "source": [
    "d1 = d1\n",
    "d2 = d2\n",
    "d3 = d3\n",
    "d4 = d4"
   ]
  },
  {
   "cell_type": "code",
   "execution_count": 35,
   "metadata": {},
   "outputs": [
    {
     "name": "stdout",
     "output_type": "stream",
     "text": [
      "Matrix([[beta1], [1], [0], [0], [0], [1], [0], [0], [0]])\n",
      "Matrix([[2*beta1 + beta2], [4], [1], [0], [0], [0], [1], [0], [0]])\n",
      "Matrix([[4*beta1 + 2*beta2 + beta3], [8], [4], [1], [0], [0], [0], [1], [0]])\n",
      "Matrix([[-8*beta1 - 4*beta2 - 2*beta3 + beta4], [-16], [-8], [0], [1], [0], [0], [-4], [1]])\n"
     ]
    }
   ],
   "source": [
    "print(d1, d2, d3, d4, sep = '\\n')"
   ]
  },
  {
   "cell_type": "code",
   "execution_count": 36,
   "metadata": {},
   "outputs": [],
   "source": [
    "fmax = 2 * d3 + d4"
   ]
  },
  {
   "cell_type": "code",
   "execution_count": 37,
   "metadata": {},
   "outputs": [
    {
     "name": "stdout",
     "output_type": "stream",
     "text": [
      "Matrix([[beta4], [0], [0], [2], [1], [0], [0], [-2], [1]])\n"
     ]
    }
   ],
   "source": [
    "print(fmax)"
   ]
  },
  {
   "cell_type": "markdown",
   "metadata": {},
   "source": [
    "# Ninth iteration"
   ]
  },
  {
   "cell_type": "code",
   "execution_count": 38,
   "metadata": {},
   "outputs": [],
   "source": [
    "d1 = d1\n",
    "d2 = d2 - 4 * d1\n",
    "d3 = d3 - 8 * d1\n",
    "d4 = d4 + 16 * d1"
   ]
  },
  {
   "cell_type": "code",
   "execution_count": 39,
   "metadata": {},
   "outputs": [
    {
     "name": "stdout",
     "output_type": "stream",
     "text": [
      "Matrix([[beta1], [1], [0], [0], [0], [1], [0], [0], [0]])\n",
      "Matrix([[-2*beta1 + beta2], [0], [1], [0], [0], [-4], [1], [0], [0]])\n",
      "Matrix([[-4*beta1 + 2*beta2 + beta3], [0], [4], [1], [0], [-8], [0], [1], [0]])\n",
      "Matrix([[8*beta1 - 4*beta2 - 2*beta3 + beta4], [0], [-8], [0], [1], [16], [0], [-4], [1]])\n"
     ]
    }
   ],
   "source": [
    "print(d1, d2, d3, d4, sep = '\\n')"
   ]
  },
  {
   "cell_type": "code",
   "execution_count": 40,
   "metadata": {},
   "outputs": [],
   "source": [
    "fmax = 8 * d1 + 2 * d3 + d4"
   ]
  },
  {
   "cell_type": "code",
   "execution_count": 41,
   "metadata": {},
   "outputs": [
    {
     "name": "stdout",
     "output_type": "stream",
     "text": [
      "Matrix([[8*beta1 + beta4], [8], [0], [2], [1], [8], [0], [-2], [1]])\n"
     ]
    }
   ],
   "source": [
    "print(fmax)"
   ]
  },
  {
   "cell_type": "markdown",
   "metadata": {},
   "source": [
    "# Tenth iteration"
   ]
  },
  {
   "cell_type": "code",
   "execution_count": 42,
   "metadata": {},
   "outputs": [],
   "source": [
    "d1 = d1\n",
    "d2 = d2\n",
    "d3 = d3 - 4 * d2\n",
    "d4 = d4 + 8 * d2"
   ]
  },
  {
   "cell_type": "code",
   "execution_count": 43,
   "metadata": {},
   "outputs": [
    {
     "name": "stdout",
     "output_type": "stream",
     "text": [
      "Matrix([[beta1], [1], [0], [0], [0], [1], [0], [0], [0]])\n",
      "Matrix([[-2*beta1 + beta2], [0], [1], [0], [0], [-4], [1], [0], [0]])\n",
      "Matrix([[4*beta1 - 2*beta2 + beta3], [0], [0], [1], [0], [8], [-4], [1], [0]])\n",
      "Matrix([[-8*beta1 + 4*beta2 - 2*beta3 + beta4], [0], [0], [0], [1], [-16], [8], [-4], [1]])\n"
     ]
    }
   ],
   "source": [
    "print(d1, d2, d3, d4, sep = '\\n')"
   ]
  },
  {
   "cell_type": "code",
   "execution_count": 44,
   "metadata": {},
   "outputs": [],
   "source": [
    "fmax = 8 * d1 + 4 * d2 + 2 * d3 + d4"
   ]
  },
  {
   "cell_type": "code",
   "execution_count": 45,
   "metadata": {},
   "outputs": [
    {
     "name": "stdout",
     "output_type": "stream",
     "text": [
      "Matrix([[4*beta2 + beta4], [8], [4], [2], [1], [-8], [4], [-2], [1]])\n"
     ]
    }
   ],
   "source": [
    "print(fmax)"
   ]
  },
  {
   "cell_type": "markdown",
   "metadata": {},
   "source": [
    "# Eleventh iteration"
   ]
  },
  {
   "cell_type": "code",
   "execution_count": 46,
   "metadata": {},
   "outputs": [],
   "source": [
    "d1 = d1\n",
    "d2 = d2 + 4 * d1\n",
    "d3 = d3 - 8 * d1\n",
    "d4 = d4 + 16 * d1"
   ]
  },
  {
   "cell_type": "code",
   "execution_count": 47,
   "metadata": {},
   "outputs": [
    {
     "name": "stdout",
     "output_type": "stream",
     "text": [
      "Matrix([[beta1], [1], [0], [0], [0], [1], [0], [0], [0]])\n",
      "Matrix([[2*beta1 + beta2], [4], [1], [0], [0], [0], [1], [0], [0]])\n",
      "Matrix([[-4*beta1 - 2*beta2 + beta3], [-8], [0], [1], [0], [0], [-4], [1], [0]])\n",
      "Matrix([[8*beta1 + 4*beta2 - 2*beta3 + beta4], [16], [0], [0], [1], [0], [8], [-4], [1]])\n"
     ]
    }
   ],
   "source": [
    "print(d1, d2, d3, d4, sep = '\\n')"
   ]
  },
  {
   "cell_type": "code",
   "execution_count": 48,
   "metadata": {},
   "outputs": [],
   "source": [
    "fmax = 4 * d2 + 2 * d3 + d4"
   ]
  },
  {
   "cell_type": "code",
   "execution_count": 49,
   "metadata": {},
   "outputs": [
    {
     "name": "stdout",
     "output_type": "stream",
     "text": [
      "Matrix([[8*beta1 + 4*beta2 + beta4], [16], [4], [2], [1], [0], [4], [-2], [1]])\n"
     ]
    }
   ],
   "source": [
    "print(fmax)"
   ]
  },
  {
   "cell_type": "markdown",
   "metadata": {},
   "source": [
    "# 12th iteration"
   ]
  },
  {
   "cell_type": "code",
   "execution_count": 50,
   "metadata": {},
   "outputs": [],
   "source": [
    "d1 = d1\n",
    "d2 = d2\n",
    "d3 = d3\n",
    "d4 = d4 + 4 * d3"
   ]
  },
  {
   "cell_type": "code",
   "execution_count": 51,
   "metadata": {},
   "outputs": [
    {
     "name": "stdout",
     "output_type": "stream",
     "text": [
      "Matrix([[beta1], [1], [0], [0], [0], [1], [0], [0], [0]])\n",
      "Matrix([[2*beta1 + beta2], [4], [1], [0], [0], [0], [1], [0], [0]])\n",
      "Matrix([[-4*beta1 - 2*beta2 + beta3], [-8], [0], [1], [0], [0], [-4], [1], [0]])\n",
      "Matrix([[-8*beta1 - 4*beta2 + 2*beta3 + beta4], [-16], [0], [4], [1], [0], [-8], [0], [1]])\n"
     ]
    }
   ],
   "source": [
    "print(d1, d2, d3, d4, sep = '\\n')"
   ]
  },
  {
   "cell_type": "code",
   "execution_count": 52,
   "metadata": {},
   "outputs": [],
   "source": [
    "fmax = 4 * d2 + d4"
   ]
  },
  {
   "cell_type": "code",
   "execution_count": 53,
   "metadata": {},
   "outputs": [
    {
     "name": "stdout",
     "output_type": "stream",
     "text": [
      "Matrix([[2*beta3 + beta4], [0], [4], [4], [1], [0], [-4], [0], [1]])\n"
     ]
    }
   ],
   "source": [
    "print(fmax)"
   ]
  },
  {
   "cell_type": "markdown",
   "metadata": {},
   "source": [
    "# 13th iteration"
   ]
  },
  {
   "cell_type": "code",
   "execution_count": 54,
   "metadata": {},
   "outputs": [],
   "source": [
    "d1 = d1\n",
    "d2 = d2 - 4 * d1\n",
    "d3 = d3 + 8 * d1\n",
    "d4 = d4 + 16 * d1"
   ]
  },
  {
   "cell_type": "code",
   "execution_count": 55,
   "metadata": {},
   "outputs": [
    {
     "name": "stdout",
     "output_type": "stream",
     "text": [
      "Matrix([[beta1], [1], [0], [0], [0], [1], [0], [0], [0]])\n",
      "Matrix([[-2*beta1 + beta2], [0], [1], [0], [0], [-4], [1], [0], [0]])\n",
      "Matrix([[4*beta1 - 2*beta2 + beta3], [0], [0], [1], [0], [8], [-4], [1], [0]])\n",
      "Matrix([[8*beta1 - 4*beta2 + 2*beta3 + beta4], [0], [0], [4], [1], [16], [-8], [0], [1]])\n"
     ]
    }
   ],
   "source": [
    "print(d1, d2, d3, d4, sep = '\\n')"
   ]
  },
  {
   "cell_type": "code",
   "execution_count": 56,
   "metadata": {},
   "outputs": [],
   "source": [
    "fmax = 8 * d1 + 4 * d2 + d4"
   ]
  },
  {
   "cell_type": "code",
   "execution_count": 57,
   "metadata": {},
   "outputs": [
    {
     "name": "stdout",
     "output_type": "stream",
     "text": [
      "Matrix([[8*beta1 + 2*beta3 + beta4], [8], [4], [4], [1], [8], [-4], [0], [1]])\n"
     ]
    }
   ],
   "source": [
    "print(fmax)"
   ]
  },
  {
   "cell_type": "markdown",
   "metadata": {},
   "source": [
    "# 14th iteration"
   ]
  },
  {
   "cell_type": "code",
   "execution_count": 58,
   "metadata": {},
   "outputs": [],
   "source": [
    "d1 = d1\n",
    "d2 = d2\n",
    "d3 = d3 + 4 * d2\n",
    "d4 = d4 + 8 * d2"
   ]
  },
  {
   "cell_type": "code",
   "execution_count": 59,
   "metadata": {},
   "outputs": [
    {
     "name": "stdout",
     "output_type": "stream",
     "text": [
      "Matrix([[beta1], [1], [0], [0], [0], [1], [0], [0], [0]])\n",
      "Matrix([[-2*beta1 + beta2], [0], [1], [0], [0], [-4], [1], [0], [0]])\n",
      "Matrix([[-4*beta1 + 2*beta2 + beta3], [0], [4], [1], [0], [-8], [0], [1], [0]])\n",
      "Matrix([[-8*beta1 + 4*beta2 + 2*beta3 + beta4], [0], [8], [4], [1], [-16], [0], [0], [1]])\n"
     ]
    }
   ],
   "source": [
    "print(d1, d2, d3, d4, sep = '\\n')"
   ]
  },
  {
   "cell_type": "code",
   "execution_count": 60,
   "metadata": {},
   "outputs": [],
   "source": [
    "fmax = 8 * d1 + d4"
   ]
  },
  {
   "cell_type": "code",
   "execution_count": 61,
   "metadata": {},
   "outputs": [
    {
     "name": "stdout",
     "output_type": "stream",
     "text": [
      "Matrix([[4*beta2 + 2*beta3 + beta4], [8], [8], [4], [1], [-8], [0], [0], [1]])\n"
     ]
    }
   ],
   "source": [
    "print(fmax)"
   ]
  },
  {
   "cell_type": "markdown",
   "metadata": {},
   "source": [
    "# 15th iteration"
   ]
  },
  {
   "cell_type": "code",
   "execution_count": 62,
   "metadata": {},
   "outputs": [],
   "source": [
    "d1 = d1\n",
    "d2 = d2 + 4 * d1\n",
    "d3 = d3 + 8 * d1\n",
    "d4 = d4 + 16 * d1"
   ]
  },
  {
   "cell_type": "code",
   "execution_count": 63,
   "metadata": {},
   "outputs": [
    {
     "name": "stdout",
     "output_type": "stream",
     "text": [
      "Matrix([[beta1], [1], [0], [0], [0], [1], [0], [0], [0]])\n",
      "Matrix([[2*beta1 + beta2], [4], [1], [0], [0], [0], [1], [0], [0]])\n",
      "Matrix([[4*beta1 + 2*beta2 + beta3], [8], [4], [1], [0], [0], [0], [1], [0]])\n",
      "Matrix([[8*beta1 + 4*beta2 + 2*beta3 + beta4], [16], [8], [4], [1], [0], [0], [0], [1]])\n"
     ]
    }
   ],
   "source": [
    "print(d1, d2, d3, d4, sep = '\\n')"
   ]
  },
  {
   "cell_type": "code",
   "execution_count": 64,
   "metadata": {},
   "outputs": [],
   "source": [
    "fmax = d4"
   ]
  },
  {
   "cell_type": "code",
   "execution_count": 65,
   "metadata": {},
   "outputs": [
    {
     "name": "stdout",
     "output_type": "stream",
     "text": [
      "Matrix([[8*beta1 + 4*beta2 + 2*beta3 + beta4], [16], [8], [4], [1], [0], [0], [0], [1]])\n"
     ]
    }
   ],
   "source": [
    "print(fmax)"
   ]
  }
 ],
 "metadata": {
  "kernelspec": {
   "display_name": "Python 3.9.7 64-bit",
   "language": "python",
   "name": "python3"
  },
  "language_info": {
   "codemirror_mode": {
    "name": "ipython",
    "version": 3
   },
   "file_extension": ".py",
   "mimetype": "text/x-python",
   "name": "python",
   "nbconvert_exporter": "python",
   "pygments_lexer": "ipython3",
   "version": "3.9.7"
  },
  "orig_nbformat": 4,
  "vscode": {
   "interpreter": {
    "hash": "bea42e1b0e07028483ba0ff26b9b4dc4fa162e9d0ccb6b0507d54b9d42d30653"
   }
  }
 },
 "nbformat": 4,
 "nbformat_minor": 2
}
