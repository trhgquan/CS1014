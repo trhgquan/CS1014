{
 "cells": [
  {
   "cell_type": "markdown",
   "metadata": {},
   "source": [
    "# Giải đề thi giữa kỳ môn Quy hoạch tuyến tính"
   ]
  },
  {
   "cell_type": "markdown",
   "metadata": {},
   "source": [
    "## Câu 1\n",
    "Ta có bài toán quy hoạch tuyến tính với các ràng buộc\n",
    "$$\n",
    "\\left\\{ \n",
    "\\begin{array}{c}\n",
    "x_1 + 2x_2 - x_3 \\leq 14 \\\\ \n",
    "2x_1 - 2x_2 + 3x_3 \\leq 16 \\\\ \n",
    "-x_1 + 4x_2 + 2x_3 \\leq 16 \\\\ \n",
    "\\end{array}\n",
    "\\right.\n",
    "$$\n",
    "Với $x_1, x_2, x_3 \\geq 0$, hàm mục tiêu $f(x_1, x_2, x_3) = 2x_1 + 2x_2 + 3x_3 \\rightarrow \\max$"
   ]
  },
  {
   "cell_type": "markdown",
   "metadata": {},
   "source": [
    "Note: Ngay đây anh chị em nhớ lập luận lại, vì sao có được điều nầy?"
   ]
  },
  {
   "cell_type": "markdown",
   "metadata": {},
   "source": [
    "### Subtask a\n",
    "Tính giá trị lớn nhất của lợi nhuận bằng phương pháp đơn hình trong QHTT"
   ]
  },
  {
   "cell_type": "markdown",
   "metadata": {},
   "source": [
    "Ta tiến hành thêm các biến $x_4, x_5, x_6$ để chuyển các ràng buộc về đẳng thức:\n",
    "\n",
    "$$\n",
    "\\left\\{ \n",
    "\\begin{array}{c}\n",
    "x_1 + 2x_2 - x_3 + x_4 = 14 \\\\ \n",
    "2x_1 - 2x_2 + 3x_3 + x_5 = 16 \\\\ \n",
    "-x_1 + 4x_2 + 2x_3 + x_6 = 16 \\\\ \n",
    "\\end{array}\n",
    "\\right.\n",
    "$$\n",
    "\n",
    "Hàm mục tiêu cũng thay đổi thành $f(x_1, x_2, x_3, x_4, x_5, x_6) = 2x_1 + 2x_2 + 3x_3 + x_4 + x_5 + x_6 \\rightarrow \\max$"
   ]
  },
  {
   "cell_type": "markdown",
   "metadata": {},
   "source": [
    "Lần lặp 1:\n",
    "\n",
    "|CS|HS|PA|2|2|3|0|0|0|tỷ lệ min|\n",
    "|--|--|--|-|-|-|-|-|-|---------|\n",
    "|$x_4$|0|14|1|2|-1|1|0|0|tỉ số âm không chơi|\n",
    "|$x_5$|0|16|2|-2|3|0|1|0|$\\frac{16}{3}$|\n",
    "|$x_6$|0|16|-1|4|2|0|0|1|$\\frac{16}{2}$|\n",
    "|**max**||0|-2|-2|-3|0|0|0||\n",
    "\n",
    "Qua đó $x_5$ ra, $x_3$ vào"
   ]
  },
  {
   "cell_type": "markdown",
   "metadata": {},
   "source": [
    "Lần lặp 2:\n",
    "\n",
    "- $d_2 \\leftarrow \\frac{1}{3}d_2$\n",
    "- $d_1 \\leftarrow d_1 + d_2$\n",
    "- $d_3 \\leftarrow d_3 - 2d_2$\n",
    "\n",
    "|CS|HS|PA|2|2|3|0|0|0|tỷ lệ min|\n",
    "|--|--|--|-|-|-|-|-|-|---------|\n",
    "|$x_4$|0|$\\frac{58}{3}$|$\\frac{5}{3}$|$\\frac{4}{3}$|0|1|$\\frac{1}{3}$|0|$\\frac{58}{5}$|\n",
    "|$x_3$|3|$\\frac{16}{3}$|$\\frac{2}{3}$|$\\frac{-2}{3}$|1|0|$\\frac{1}{3}$|0|mới chèn vào không tính|\n",
    "|$x_6$|0|$\\frac{16}{3}$|$\\frac{-7}{3}$|$\\frac{16}{3}$|0|0|$\\frac{-2}{3}$|1|1|\n",
    "|**max**||16|0|-4|0|0|1|0||\n",
    "\n",
    "Qua đó $x_6$ ra, $x_2$ vào\n"
   ]
  },
  {
   "cell_type": "markdown",
   "metadata": {},
   "source": [
    "Lần lặp 3:\n",
    "\n",
    "- $d_3 \\leftarrow \\frac{3}{16}d_3$\n",
    "- $d_2 \\leftarrow d_2 + \\frac{2}{3}d_3$\n",
    "- $d_1 \\leftarrow d_1 - \\frac{4}{3}d_3$\n",
    "\n",
    "\n",
    "|CS|HS|PA|2|2|3|0|0|0|tỷ lệ min|\n",
    "|--|--|--|-|-|-|-|-|-|---------|\n",
    "|$x_4$|0|18|$\\frac{9}{4}$|0|0|1|$\\frac{1}{2}$|$\\frac{-1}{4}$|8|\n",
    "|$x_3$|3|6|$\\frac{3}{8}$|0|1|0|$\\frac{1}{4}$|$\\frac{1}{8}$|16|\n",
    "|$x_2$|2|1|$\\frac{-7}{16}$|1|0|0|$\\frac{-1}{8}$|$\\frac{3}{16}$|mới chèn vào không tính|\n",
    "|**max**||20|$\\frac{-7}{4}$|0|0|0|$\\frac{1}{2}$|$\\frac{3}{4}$||\n",
    "\n",
    "Qua đó $x_4$ ra, $x_1$ vào."
   ]
  },
  {
   "cell_type": "markdown",
   "metadata": {},
   "source": [
    "Lần lặp 4:\n",
    "\n",
    "- $d_1 \\leftarrow \\frac{4}{9}d_1$\n",
    "- $d_2 \\leftarrow d_2 - \\frac{3}{8}d_1$\n",
    "- $d_3 \\leftarrow d_3 + \\frac{7}{16}d_1$\n",
    "\n",
    "\n",
    "|CS|HS|PA|2|2|3|0|0|0|\n",
    "|--|--|--|-|-|-|-|-|-|\n",
    "|$x_1$|2|8|1|0|0|$\\frac{4}{9}$|$\\frac{2}{9}$|$\\frac{-1}{9}$|\n",
    "|$x_3$|3|3|0|0|1|$\\frac{-1}{6}$|$\\frac{1}{6}$|$\\frac{1}{6}$|\n",
    "|$x_2$|2|$\\frac{9}{2}$|0|1|0|$\\frac{7}{36}$|$\\frac{-1}{36}$|$\\frac{5}{36}$|\n",
    "|**max**||34|0|0|0|$\\frac{7}{9}$|$\\frac{8}{9}$|$\\frac{5}{9}$|\n",
    "\n",
    "Vậy $f_{\\max} = 34$ khi $x_1 = 8, x_2 = \\frac{9}{2}, x_3 = 3$."
   ]
  },
  {
   "cell_type": "markdown",
   "metadata": {},
   "source": [
    "### Subtask b\n",
    "Giải bài toán bằng `pulp` (aka chép y chang code thầy Cảnh vào, cảm ơn thầy Cảnh!)"
   ]
  },
  {
   "cell_type": "code",
   "execution_count": 13,
   "metadata": {},
   "outputs": [],
   "source": [
    "from pulp import *"
   ]
  },
  {
   "cell_type": "code",
   "execution_count": 14,
   "metadata": {},
   "outputs": [],
   "source": [
    "x1 = LpVariable('X1', lowBound = 0)\n",
    "x2 = LpVariable('X2', lowBound = 0)\n",
    "x3 = LpVariable('X3', lowBound = 0)"
   ]
  },
  {
   "cell_type": "code",
   "execution_count": 15,
   "metadata": {},
   "outputs": [
    {
     "data": {
      "text/plain": [
       "1"
      ]
     },
     "execution_count": 15,
     "metadata": {},
     "output_type": "execute_result"
    }
   ],
   "source": [
    "model = LpProblem('Giai cau b', LpMaximize)\n",
    "\n",
    "model += 2 * x1 + 2 * x2 + 3 * x3, 'Total revenue'\n",
    "model += x1 + 2 * x2 - x3 <= 14, 'Rang buoc 1'\n",
    "model += 2 * x1 - 2 * x2 + 3 * x3 <= 16, 'Rang buoc 2'\n",
    "model += -1 * x1 + 4 * x2 + 2 * x3 <= 16, 'Rang buoc 3'\n",
    "\n",
    "model.solve()"
   ]
  },
  {
   "cell_type": "code",
   "execution_count": 16,
   "metadata": {},
   "outputs": [
    {
     "data": {
      "text/plain": [
       "2*X1 + 2*X2 + 3*X3 + 0"
      ]
     },
     "execution_count": 16,
     "metadata": {},
     "output_type": "execute_result"
    }
   ],
   "source": [
    "model.objective"
   ]
  },
  {
   "cell_type": "code",
   "execution_count": 17,
   "metadata": {},
   "outputs": [
    {
     "data": {
      "text/plain": [
       "34.0"
      ]
     },
     "execution_count": 17,
     "metadata": {},
     "output_type": "execute_result"
    }
   ],
   "source": [
    "model.objective.value()"
   ]
  },
  {
   "cell_type": "code",
   "execution_count": 18,
   "metadata": {},
   "outputs": [
    {
     "name": "stdout",
     "output_type": "stream",
     "text": [
      "X1 8.0\n",
      "X2 4.5\n",
      "X3 3.0\n"
     ]
    }
   ],
   "source": [
    "for i in model.variables():\n",
    "    print(i, i.value())"
   ]
  }
 ],
 "metadata": {
  "interpreter": {
   "hash": "0a67b383376bbc3f268150e8a766376259116456469e7f7cea52e2e925b8a72d"
  },
  "kernelspec": {
   "display_name": "Python 3.9.7 64-bit",
   "language": "python",
   "name": "python3"
  },
  "language_info": {
   "codemirror_mode": {
    "name": "ipython",
    "version": 3
   },
   "file_extension": ".py",
   "mimetype": "text/x-python",
   "name": "python",
   "nbconvert_exporter": "python",
   "pygments_lexer": "ipython3",
   "version": "3.9.7"
  },
  "orig_nbformat": 4
 },
 "nbformat": 4,
 "nbformat_minor": 2
}
