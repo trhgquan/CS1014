{
 "cells": [
  {
   "cell_type": "code",
   "execution_count": null,
   "metadata": {},
   "outputs": [],
   "source": []
  },
  {
   "cell_type": "markdown",
   "metadata": {},
   "source": [
    "# Giải đề thi giữa kỳ môn Quy hoạch tuyến tính"
   ]
  },
  {
   "cell_type": "markdown",
   "metadata": {},
   "source": [
    "## Câu 1\n",
    "Ta có bài toán quy hoạch tuyến tính với các ràng buộc\n",
    "$$\n",
    "\\left\\{ \n",
    "\\begin{array}{c}\n",
    "x_1 + 2x_2 - x_3 \\leq 14 \\\\ \n",
    "2x_1 - 2x_2 + 3x_3 \\leq 16 \\\\ \n",
    "-x_1 + 4x_2 + 2x_3 \\leq 16 \\\\ \n",
    "\\end{array}\n",
    "\\right.\n",
    "x_1, x_2, x_3 \\geq 0;\n",
    "$$\n",
    "Hàm mục tiêu $f(x_1, x_2, x_3) = 2x_1 + 2x_2 + 3x_3 \\rightarrow \\max$"
   ]
  },
  {
   "cell_type": "markdown",
   "metadata": {},
   "source": [
    "Note: Ngay đây anh chị em nhớ lập luận lại, vì sao có được điều nầy?"
   ]
  },
  {
   "cell_type": "markdown",
   "metadata": {},
   "source": [
    "### Subtask b\n",
    "Giải bài toán bằng `pulp` (aka chép y chang code thầy Cảnh vào, cảm ơn thầy Cảnh!)"
   ]
  },
  {
   "cell_type": "code",
   "execution_count": 1,
   "metadata": {},
   "outputs": [],
   "source": [
    "from pulp import *"
   ]
  },
  {
   "cell_type": "code",
   "execution_count": 2,
   "metadata": {},
   "outputs": [],
   "source": [
    "x1 = LpVariable('X1', lowBound = 0)\n",
    "x2 = LpVariable('X2', lowBound = 0)\n",
    "x3 = LpVariable('X3', lowBound = 0)"
   ]
  },
  {
   "cell_type": "code",
   "execution_count": 3,
   "metadata": {},
   "outputs": [
    {
     "name": "stderr",
     "output_type": "stream",
     "text": [
      "D:\\Software\\Python\\lib\\site-packages\\pulp\\pulp.py:1352: UserWarning: Spaces are not permitted in the name. Converted to '_'\n",
      "  warnings.warn(\"Spaces are not permitted in the name. Converted to '_'\")\n"
     ]
    },
    {
     "data": {
      "text/plain": [
       "1"
      ]
     },
     "execution_count": 3,
     "metadata": {},
     "output_type": "execute_result"
    }
   ],
   "source": [
    "model = LpProblem('Giai cau b', LpMaximize)\n",
    "\n",
    "model += 2 * x1 + 2 * x2 + 3 * x3, 'Total revenue'\n",
    "model += x1 + 2 * x2 - x3 <= 14, 'Chan tren 1'\n",
    "model += 2 * x1 - 2 * x2 + 3 * x3 <= 16, 'Chan tren 2'\n",
    "model += -1 * x1 + 4 * x2 + 2 * x3 <= 16, 'Chan tren 3'\n",
    "\n",
    "model.solve()"
   ]
  },
  {
   "cell_type": "code",
   "execution_count": 4,
   "metadata": {},
   "outputs": [
    {
     "data": {
      "text/plain": [
       "2*X1 + 2*X2 + 3*X3 + 0"
      ]
     },
     "execution_count": 4,
     "metadata": {},
     "output_type": "execute_result"
    }
   ],
   "source": [
    "model.objective"
   ]
  },
  {
   "cell_type": "code",
   "execution_count": 5,
   "metadata": {},
   "outputs": [
    {
     "data": {
      "text/plain": [
       "34.0"
      ]
     },
     "execution_count": 5,
     "metadata": {},
     "output_type": "execute_result"
    }
   ],
   "source": [
    "model.objective.value()"
   ]
  },
  {
   "cell_type": "code",
   "execution_count": 6,
   "metadata": {},
   "outputs": [
    {
     "name": "stdout",
     "output_type": "stream",
     "text": [
      "X1 8.0\n",
      "X2 4.5\n",
      "X3 3.0\n"
     ]
    }
   ],
   "source": [
    "for i in model.variables():\n",
    "    print(i, i.value())"
   ]
  }
 ],
 "metadata": {
  "interpreter": {
   "hash": "0a67b383376bbc3f268150e8a766376259116456469e7f7cea52e2e925b8a72d"
  },
  "kernelspec": {
   "display_name": "Python 3.9.7 64-bit",
   "language": "python",
   "name": "python3"
  },
  "language_info": {
   "codemirror_mode": {
    "name": "ipython",
    "version": 3
   },
   "file_extension": ".py",
   "mimetype": "text/x-python",
   "name": "python",
   "nbconvert_exporter": "python",
   "pygments_lexer": "ipython3",
   "version": "3.9.7"
  },
  "orig_nbformat": 4
 },
 "nbformat": 4,
 "nbformat_minor": 2
}
