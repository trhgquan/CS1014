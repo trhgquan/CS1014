{
 "cells": [
  {
   "cell_type": "markdown",
   "metadata": {},
   "source": [
    "# Giải đề thi giữa kỳ môn Quy hoạch tuyến tính"
   ]
  },
  {
   "cell_type": "markdown",
   "metadata": {},
   "source": [
    "## Câu 1\n",
    "Ta có bài toán quy hoạch tuyến tính với các ràng buộc\n",
    "$$\n",
    "\\left\\{ \n",
    "\\begin{array}{c}\n",
    "x_1 + 2x_2 - x_3 \\leq 14 \\\\ \n",
    "2x_1 - 2x_2 + 3x_3 \\leq 16 \\\\ \n",
    "-x_1 + 4x_2 + 2x_3 \\leq 16\n",
    "\\end{array}\n",
    "\\right.\n",
    "$$\n",
    "$\\forall i \\in \\overline{1..3}, x_i \\geq 0$. Hàm mục tiêu $f = 2x_1 + 2x_2 + 3x_3 \\rightarrow \\max$"
   ]
  },
  {
   "cell_type": "markdown",
   "metadata": {},
   "source": [
    "**Note:** Ngay đây anh chị em nhớ lập luận lại, vì sao có được điều nầy?"
   ]
  },
  {
   "cell_type": "markdown",
   "metadata": {},
   "source": [
    "### Subtask a\n",
    "Tính giá trị lớn nhất của lợi nhuận bằng phương pháp đơn hình trong QHTT"
   ]
  },
  {
   "cell_type": "markdown",
   "metadata": {},
   "source": [
    "Ta tiến hành thêm các biến $x_4, x_5, x_6$ để chuyển các ràng buộc về đẳng thức:\n",
    "\n",
    "$$\n",
    "\\left\\{ \n",
    "\\begin{array}{c}\n",
    "x_1 + 2x_2 - x_3 + x_4 = 14 \\\\ \n",
    "2x_1 - 2x_2 + 3x_3 + x_5 = 16 \\\\ \n",
    "-x_1 + 4x_2 + 2x_3 + x_6 = 16 \\\\ \n",
    "\\end{array}\n",
    "\\right.\n",
    "$$\n",
    "\n",
    "Dễ dàng nhận thấy các cơ sở lần lượt là $x_4, x_5, x_6$, hệ số đều bằng 0."
   ]
  },
  {
   "cell_type": "markdown",
   "metadata": {},
   "source": [
    "Lần lặp 1:\n",
    "\n",
    "|CS|HS|PA|2|2|3|0|0|0|tỷ lệ min|\n",
    "|--|--|--|-|-|-|-|-|-|---------|\n",
    "|$x_4$|0|14|1|2|-1|1|0|0|tỉ số âm không chơi|\n",
    "|$x_5$|0|16|2|-2|3|0|1|0|$\\frac{16}{3}$|\n",
    "|$x_6$|0|16|-1|4|2|0|0|1|$\\frac{16}{2}$|\n",
    "|**max**| |0|-2|-2|-3|0|0|0| |\n",
    "\n",
    "Qua đó $x_5$ ra, $x_3$ vào"
   ]
  },
  {
   "cell_type": "markdown",
   "metadata": {},
   "source": [
    "Lần lặp 2:\n",
    "\n",
    "- $d_2 \\leftarrow \\frac{1}{3}d_2$\n",
    "- $d_1 \\leftarrow d_1 + d_2$\n",
    "- $d_3 \\leftarrow d_3 - 2d_2$\n",
    "\n",
    "|CS|HS|PA|2|2|3|0|0|0|tỷ lệ min|\n",
    "|--|--|--|-|-|-|-|-|-|---------|\n",
    "|$x_4$|0|$\\frac{58}{3}$|$\\frac{5}{3}$|$\\frac{4}{3}$|0|1|$\\frac{1}{3}$|0|$\\frac{58}{5}$|\n",
    "|$x_3$|3|$\\frac{16}{3}$|$\\frac{2}{3}$|$\\frac{-2}{3}$|1|0|$\\frac{1}{3}$|0|mới chèn vào không tính|\n",
    "|$x_6$|0|$\\frac{16}{3}$|$\\frac{-7}{3}$|$\\frac{16}{3}$|0|0|$\\frac{-2}{3}$|1|1|\n",
    "|**max**| |16|0|-4|0|0|1|0| |\n",
    "\n",
    "Qua đó $x_6$ ra, $x_2$ vào\n"
   ]
  },
  {
   "cell_type": "markdown",
   "metadata": {},
   "source": [
    "Lần lặp 3:\n",
    "\n",
    "- $d_3 \\leftarrow \\frac{3}{16}d_3$\n",
    "- $d_2 \\leftarrow d_2 + \\frac{2}{3}d_3$\n",
    "- $d_1 \\leftarrow d_1 - \\frac{4}{3}d_3$\n",
    "\n",
    "\n",
    "|CS|HS|PA|2|2|3|0|0|0|tỷ lệ min|\n",
    "|--|--|--|-|-|-|-|-|-|---------|\n",
    "|$x_4$|0|18|$\\frac{9}{4}$|0|0|1|$\\frac{1}{2}$|$\\frac{-1}{4}$|8|\n",
    "|$x_3$|3|6|$\\frac{3}{8}$|0|1|0|$\\frac{1}{4}$|$\\frac{1}{8}$|16|\n",
    "|$x_2$|2|1|$\\frac{-7}{16}$|1|0|0|$\\frac{-1}{8}$|$\\frac{3}{16}$|mới chèn vào không tính|\n",
    "|**max**| |20|$\\frac{-7}{4}$|0|0|0|$\\frac{1}{2}$|$\\frac{3}{4}$| |\n",
    "\n",
    "Qua đó $x_4$ ra, $x_1$ vào."
   ]
  },
  {
   "cell_type": "markdown",
   "metadata": {},
   "source": [
    "Lần lặp 4:\n",
    "\n",
    "- $d_1 \\leftarrow \\frac{4}{9}d_1$\n",
    "- $d_2 \\leftarrow d_2 - \\frac{3}{8}d_1$\n",
    "- $d_3 \\leftarrow d_3 + \\frac{7}{16}d_1$\n",
    "\n",
    "\n",
    "|CS|HS|PA|2|2|3|0|0|0|\n",
    "|--|--|--|-|-|-|-|-|-|\n",
    "|$x_1$|2|8|1|0|0|$\\frac{4}{9}$|$\\frac{2}{9}$|$\\frac{-1}{9}$|\n",
    "|$x_3$|3|3|0|0|1|$\\frac{-1}{6}$|$\\frac{1}{6}$|$\\frac{1}{6}$|\n",
    "|$x_2$|2|$\\frac{9}{2}$|0|1|0|$\\frac{7}{36}$|$\\frac{-1}{36}$|$\\frac{5}{36}$|\n",
    "|**max**| |34|0|0|0|$\\frac{7}{9}$|$\\frac{8}{9}$|$\\frac{5}{9}$|\n",
    "\n",
    "Vậy $f_{\\max} = 34$ khi $x_1 = 8, x_2 = \\frac{9}{2}, x_3 = 3$."
   ]
  },
  {
   "cell_type": "markdown",
   "metadata": {},
   "source": [
    "### Subtask b\n",
    "Giải bài toán bằng `pulp` (aka chép y chang code thầy Cảnh vào, cảm ơn thầy Cảnh!)\n",
    "\n",
    "Xem file `problem1-subtaskb.py`"
   ]
  },
  {
   "cell_type": "markdown",
   "metadata": {},
   "source": [
    "## Câu 2\n",
    "### Subtask a\n",
    "Tham khảo MSSV `19120338` có $(a, b, c, d) = (9, 8, 3, 3)$. Xét bài toán quy hoạch tuyển tính với $x, y \\geq 0$, hàm mục tiêu $f = 29x + 4y \\rightarrow \\max$\n",
    "\n",
    "$$\n",
    "\\left\\{ \n",
    "\\begin{array}{c}\n",
    "ax - dy \\leq 23 \\\\ \n",
    "cx - by \\geq -22 \\\\\n",
    "x + y \\leq 5\n",
    "\\end{array}\n",
    "\\right.\n",
    "\n",
    "\\iff\n",
    "\n",
    "\\left\\{ \n",
    "\\begin{array}{c}\n",
    "9x - 3y \\leq 23 \\\\ \n",
    "3x - 8y \\geq -22 \\\\\n",
    "x + y \\leq 5\n",
    "\\end{array}\n",
    "\\right.\n",
    "$$\n",
    "\n",
    "Giải bài toán bằng cách thích hợp"
   ]
  },
  {
   "cell_type": "markdown",
   "metadata": {},
   "source": [
    "Dễ dàng nhận thấy mỗi bất phương trình trong hệ ràng buộc có dạng phương trình bậc 1, 2 ẩn. Do đó ta có thể sử dụng phương pháp hình học:\n",
    "\n",
    "<img src=\"problem2-subtaska.png\">"
   ]
  },
  {
   "cell_type": "markdown",
   "metadata": {},
   "source": [
    "Có 5 điểm cực biên trong hình:\n",
    "- $(0, 0)$\n",
    "\n",
    "- Giao điểm của $d_1$ và $d_3$\n",
    "\n",
    "    Giải hệ\n",
    "    $$\n",
    "    \\left\\{ \n",
    "    \\begin{array}{c}\n",
    "    9x - 3y = 23 \\\\\n",
    "    x + y = 5\n",
    "    \\end{array}\n",
    "    \\right.\n",
    "    $$\n",
    "    hệ có 1 nghiệm $(x, y) = (\\frac{19}{6}, \\frac{11}{6})$\n",
    "\n",
    "- Giao điểm của $d_2$ và $d_3$\n",
    "\n",
    "    Giải hệ\n",
    "    $$\n",
    "    \\left\\{ \n",
    "    \\begin{array}{c}\n",
    "    3x - 8y = -22 \\\\\n",
    "    x + y = 5\n",
    "    \\end{array}\n",
    "    \\right.\n",
    "    $$\n",
    "    hệ có 1 nghiệm $(x, y) = (\\frac{18}{11}, \\frac{37}{11})$\n",
    "\n",
    "\n",
    "- Giao điểm của $d_1$ và $Ox$\n",
    "    - Hay là, $9x - 3y = 23$ với $y = 0 \\iff (x, y) = (\\frac{23}{9}, 0)$\n",
    "- Giao điểm của $d_2$ và $Oy$\n",
    "    - Hay là, $3x - 8y = -22$ với $x = 0 \\iff (x, y) = (0, \\frac{22}{8})$\n"
   ]
  },
  {
   "cell_type": "markdown",
   "metadata": {},
   "source": [
    "Khi đó:\n",
    "- $f(0, 0) = 0$\n",
    "- $f(\\frac{19}{6}, \\frac{11}{6}) = \\frac{595}{6} \\approx 99.1(6)$\n",
    "- $f(\\frac{18}{11}, \\frac{37}{11}) = \\frac{670}{11} \\approx 60.(90)$\n",
    "- $f(\\frac{23}{9}, 0) = \\frac{667}{9} \\approx 74.(1)$\n",
    "- $f(0, \\frac{22}{8}) = 11$\n",
    "\n",
    "Vậy $f_{\\max} = \\frac{595}{6}$, đạt được tại $(x, y) = (\\frac{19}{6}, \\frac{11}{6})$"
   ]
  },
  {
   "cell_type": "markdown",
   "metadata": {},
   "source": [
    "Kiểm chứng subtask a: `problem2-subtaska.py`\n",
    "\n",
    "**Note**: Anh chị em nhớ kiểm chứng lại sau khi làm. Đặc biệt, **nhớ xài MSSV của mình**, tránh sai sót đáng tiếc!\n",
    "\n",
    "**Hint**: Đề chỉ bảo là làm **với phương pháp thích hợp**, vậy xài `pulp` hay `scipy` có phải phương pháp thích hợp????"
   ]
  },
  {
   "cell_type": "markdown",
   "metadata": {},
   "source": [
    "### Subtask b\n",
    "(status quo)"
   ]
  },
  {
   "cell_type": "markdown",
   "metadata": {},
   "source": [
    "## Câu 3\n",
    "Cho $(P)$ là bài toán quy hoạch tuyến tính ba biến $x_1, x_2, x_3\\ (x_1 \\leq 0, x_2 \\in \\mathbb{R}, x_3 \\geq 0)$ có hàm mục tiêu $f(x_1, x_2, x_3) = 2x_1 - x_2 + 4x_3 \\rightarrow \\min$, hệ ràng buộc\n",
    "\n",
    "$$\n",
    "\\left\\{ \n",
    "\\begin{array}{c}\n",
    "x_1 - x_2 + 2x_3 = 5 \\\\\n",
    "2x_1 - x_2 + x_3 \\geq 3\n",
    "\\end{array}\n",
    "\\right.\n",
    "$$"
   ]
  },
  {
   "cell_type": "markdown",
   "metadata": {},
   "source": [
    "### Subtask a\n",
    "Xác định bài toán đối ngẫu $(D)$ của bài toán $(P)$ và so sánh tính khả thi của việc giải $(P)$ và $(D)$ bằng phương pháp hình học?"
   ]
  },
  {
   "cell_type": "markdown",
   "metadata": {},
   "source": [
    "Bài toán đối ngẫu $(D)$ có dạng như sau:\n",
    "$$\n",
    "\\left\\{ \n",
    "\\begin{array}{c}\n",
    "y_1 + 2y_2 \\geq 2 \\\\\n",
    "-y_1 - y_2 = -1 \\\\\n",
    "2y_1 + y_2 \\leq 4\n",
    "\\end{array}\n",
    "\\right.\n",
    "$$\n",
    "\n",
    "$y_1 \\in \\mathbb{R}, y_2 \\geq 0$, hàm mục tiêu $g = 5y_1 + 3y_2 \\rightarrow \\max$"
   ]
  },
  {
   "cell_type": "markdown",
   "metadata": {},
   "source": [
    "Kiểm tra lại: file `problem3-subtaska.py`\n",
    "\n",
    "Lời bình: dễ dàng nhận thấy bài toán đối ngẫu có thể giải bằng phương pháp hình học, trong khi bài toán ban đầu rất khó (hàm 3 biến không thể biểu diễn trong không gian 2D, phải cần không gian 3D)."
   ]
  },
  {
   "cell_type": "markdown",
   "metadata": {},
   "source": [
    "### Subtask b\n",
    "Người ta tính ra được phương án tối ưu của $(D)$ ứng với hai số 0 và 1, nhưng không biết giá trị nào ứng với biến nào. Không giải trực tiếp **bài toán $(P)$**, mô tả các bước xác định phương án tối ưu cho bài toán $(P)$ từ $(D)$.\n",
    "\n",
    "(Chú ý là không giải $(P)$).\n",
    "\n",
    "Ta đã có mệnh đề quan trọng: phương án tối ưu của bài toán đối ngẫu cũng là phương án tối ưu của bài toán gốc.\n",
    "\n",
    "Xét trường hợp $y_1 = 1, y_2 = 0$:\n",
    "- $y_1 + 2y_2 = 1 + 2 \\times 0 \\ngeq 2$\n",
    "\n",
    "Vậy chỉ còn trường hợp còn lại: $y_1 = 0, y_2 = 1$\n",
    "- $y_1 + 2y_2 = 0 + 2 \\times 1 \\geq 2$ (thỏa)\n",
    "- $-y_1 - y_2 = -0 - 1 = -1$ (thỏa)\n",
    "- $2y_1 + y_2 = 2 \\times 0 + 1 \\leq 4$ (thỏa)\n",
    "\n",
    "Khi đó $f_{\\min} = g_{\\max} = 5y_1 + 3y_2 = 5\\times 0 + 3\\times 1 = 3$."
   ]
  }
 ],
 "metadata": {
  "interpreter": {
   "hash": "0a67b383376bbc3f268150e8a766376259116456469e7f7cea52e2e925b8a72d"
  },
  "kernelspec": {
   "display_name": "Python 3.9.7 64-bit",
   "language": "python",
   "name": "python3"
  },
  "language_info": {
   "codemirror_mode": {
    "name": "ipython",
    "version": 3
   },
   "file_extension": ".py",
   "mimetype": "text/x-python",
   "name": "python",
   "nbconvert_exporter": "python",
   "pygments_lexer": "ipython3",
   "version": "3.9.7"
  },
  "orig_nbformat": 4
 },
 "nbformat": 4,
 "nbformat_minor": 2
}
